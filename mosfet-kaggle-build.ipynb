{
 "cells": [
  {
   "cell_type": "code",
   "execution_count": 1,
   "id": "9343c07d",
   "metadata": {
    "execution": {
     "iopub.execute_input": "2025-03-06T07:46:30.049233Z",
     "iopub.status.busy": "2025-03-06T07:46:30.048905Z",
     "iopub.status.idle": "2025-03-06T07:46:30.173009Z",
     "shell.execute_reply": "2025-03-06T07:46:30.171745Z"
    },
    "papermill": {
     "duration": 0.130367,
     "end_time": "2025-03-06T07:46:30.175159",
     "exception": false,
     "start_time": "2025-03-06T07:46:30.044792",
     "status": "completed"
    },
    "tags": []
   },
   "outputs": [
    {
     "name": "stdout",
     "output_type": "stream",
     "text": [
      "ldd (Ubuntu GLIBC 2.35-0ubuntu3.4) 2.35\r\n",
      "Copyright (C) 2022 Free Software Foundation, Inc.\r\n",
      "This is free software; see the source for copying conditions.  There is NO\r\n",
      "warranty; not even for MERCHANTABILITY or FITNESS FOR A PARTICULAR PURPOSE.\r\n",
      "Written by Roland McGrath and Ulrich Drepper.\r\n"
     ]
    }
   ],
   "source": [
    "!ldd --version"
   ]
  },
  {
   "cell_type": "code",
   "execution_count": 2,
   "id": "0a3cb122",
   "metadata": {
    "execution": {
     "iopub.execute_input": "2025-03-06T07:46:30.181861Z",
     "iopub.status.busy": "2025-03-06T07:46:30.181508Z",
     "iopub.status.idle": "2025-03-06T07:46:31.586238Z",
     "shell.execute_reply": "2025-03-06T07:46:31.585125Z"
    },
    "papermill": {
     "duration": 1.410171,
     "end_time": "2025-03-06T07:46:31.588234",
     "exception": false,
     "start_time": "2025-03-06T07:46:30.178063",
     "status": "completed"
    },
    "tags": []
   },
   "outputs": [
    {
     "name": "stdout",
     "output_type": "stream",
     "text": [
      "Cloning into '/kaggle/working/mosfet'...\r\n",
      "remote: Enumerating objects: 1175, done.\u001b[K\r\n",
      "remote: Counting objects: 100% (188/188), done.\u001b[K\r\n",
      "remote: Compressing objects: 100% (120/120), done.\u001b[K\r\n",
      "remote: Total 1175 (delta 100), reused 131 (delta 63), pack-reused 987 (from 1)\u001b[K\r\n",
      "Receiving objects: 100% (1175/1175), 287.35 KiB | 9.58 MiB/s, done.\r\n",
      "Resolving deltas: 100% (809/809), done.\r\n"
     ]
    }
   ],
   "source": [
    "from kaggle_secrets import UserSecretsClient\n",
    "user_secrets = UserSecretsClient()\n",
    "github_pat = user_secrets.get_secret(\"GITHUB_PAT\")\n",
    "\n",
    "!git clone https://{github_pat}@github.com/vinupriyesh/mosfet.git /kaggle/working/mosfet"
   ]
  },
  {
   "cell_type": "code",
   "execution_count": 3,
   "id": "ecd9e00b",
   "metadata": {
    "execution": {
     "iopub.execute_input": "2025-03-06T07:46:31.595910Z",
     "iopub.status.busy": "2025-03-06T07:46:31.595547Z",
     "iopub.status.idle": "2025-03-06T07:46:32.354888Z",
     "shell.execute_reply": "2025-03-06T07:46:32.353617Z"
    },
    "papermill": {
     "duration": 0.765436,
     "end_time": "2025-03-06T07:46:32.356898",
     "exception": false,
     "start_time": "2025-03-06T07:46:31.591462",
     "status": "completed"
    },
    "tags": []
   },
   "outputs": [
    {
     "name": "stdout",
     "output_type": "stream",
     "text": [
      "Already up to date.\r\n",
      "On branch main\r\n",
      "Your branch is up to date with 'origin/main'.\r\n",
      "\r\n",
      "nothing to commit, working tree clean\r\n"
     ]
    }
   ],
   "source": [
    "!cd mosfet && git pull\n",
    "!cd mosfet && git status"
   ]
  },
  {
   "cell_type": "code",
   "execution_count": 4,
   "id": "56d977e7",
   "metadata": {
    "execution": {
     "iopub.execute_input": "2025-03-06T07:46:32.364516Z",
     "iopub.status.busy": "2025-03-06T07:46:32.364071Z",
     "iopub.status.idle": "2025-03-06T07:49:19.185152Z",
     "shell.execute_reply": "2025-03-06T07:49:19.183752Z"
    },
    "papermill": {
     "duration": 166.827213,
     "end_time": "2025-03-06T07:49:19.187268",
     "exception": false,
     "start_time": "2025-03-06T07:46:32.360055",
     "status": "completed"
    },
    "tags": []
   },
   "outputs": [
    {
     "name": "stdout",
     "output_type": "stream",
     "text": [
      "-- The C compiler identification is GNU 11.4.0\r\n",
      "-- The CXX compiler identification is GNU 11.4.0\r\n",
      "-- Detecting C compiler ABI info\r\n",
      "-- Detecting C compiler ABI info - done\r\n",
      "-- Check for working C compiler: /usr/bin/cc - skipped\r\n",
      "-- Detecting C compile features\r\n",
      "-- Detecting C compile features - done\r\n",
      "-- Detecting CXX compiler ABI info\r\n",
      "-- Detecting CXX compiler ABI info - done\r\n",
      "-- Check for working CXX compiler: /usr/bin/c++ - skipped\r\n",
      "-- Detecting CXX compile features\r\n",
      "-- Detecting CXX compile features - done\r\n",
      "-- Using the multi-header code from /kaggle/working/mosfet/build/_deps/json-src/include/\r\n",
      "-- Performing Test CMAKE_HAVE_LIBC_PTHREAD\r\n",
      "-- Performing Test CMAKE_HAVE_LIBC_PTHREAD - Success\r\n",
      "-- Found Threads: TRUE\r\n",
      "-- Configuring done (17.9s)\r\n",
      "-- Generating done (0.0s)\r\n",
      "-- Build files have been written to: /kaggle/working/mosfet/build\r\n",
      "-- Using the multi-header code from /kaggle/working/mosfet/build/_deps/json-src/include/\r\n",
      "-- Configuring done (0.5s)\r\n",
      "-- Generating done (0.0s)\r\n",
      "-- Build files have been written to: /kaggle/working/mosfet/build\r\n",
      "[  2%] \u001b[32mBuilding CXX object CMakeFiles/libmosfet.dir/agent/battle_evaluator.cc.o\u001b[0m\r\n",
      "[  4%] \u001b[32mBuilding CXX object CMakeFiles/libmosfet.dir/agent/control_center.cc.o\u001b[0m\r\n",
      "[  6%] \u001b[32mBuilding CXX object CMakeFiles/libmosfet.dir/agent/drift_detector.cc.o\u001b[0m\r\n",
      "[  8%] \u001b[32mBuilding CXX object CMakeFiles/libmosfet.dir/agent/energy_estimator.cc.o\u001b[0m\r\n",
      "[ 10%] \u001b[32mBuilding CXX object CMakeFiles/libmosfet.dir/agent/game_map.cc.o\u001b[0m\r\n",
      "[ 12%] \u001b[32mBuilding CXX object CMakeFiles/libmosfet.dir/agent/opponent_tracker.cc.o\u001b[0m\r\n",
      "[ 14%] \u001b[32mBuilding CXX object CMakeFiles/libmosfet.dir/agent/pathing.cc.o\u001b[0m\r\n",
      "[ 16%] \u001b[32mBuilding CXX object CMakeFiles/libmosfet.dir/agent/relic.cc.o\u001b[0m\r\n",
      "[ 18%] \u001b[32mBuilding CXX object CMakeFiles/libmosfet.dir/agent/shuttle.cc.o\u001b[0m\r\n",
      "[ 20%] \u001b[32mBuilding CXX object CMakeFiles/libmosfet.dir/agent/shuttle_energy_tracker.cc.o\u001b[0m\r\n",
      "[ 22%] \u001b[32mBuilding CXX object CMakeFiles/libmosfet.dir/agent/roles/agent_role.cc.o\u001b[0m\r\n",
      "[ 24%] \u001b[32mBuilding CXX object CMakeFiles/libmosfet.dir/agent/roles/defender_agent_role.cc.o\u001b[0m\r\n",
      "[ 26%] \u001b[32mBuilding CXX object CMakeFiles/libmosfet.dir/agent/roles/halo_node_explorer_agent_role.cc.o\u001b[0m\r\n",
      "[ 28%] \u001b[32mBuilding CXX object CMakeFiles/libmosfet.dir/agent/roles/halo_node_navigator_agent_role.cc.o\u001b[0m\r\n",
      "[ 30%] \u001b[32mBuilding CXX object CMakeFiles/libmosfet.dir/agent/roles/navigator_agent_role.cc.o\u001b[0m\r\n",
      "[ 32%] \u001b[32mBuilding CXX object CMakeFiles/libmosfet.dir/agent/roles/random_agent_role.cc.o\u001b[0m\r\n",
      "[ 34%] \u001b[32mBuilding CXX object CMakeFiles/libmosfet.dir/agent/roles/relic_miner_agent_role.cc.o\u001b[0m\r\n",
      "[ 36%] \u001b[32mBuilding CXX object CMakeFiles/libmosfet.dir/agent/roles/relic_mining_navigator_agent_role.cc.o\u001b[0m\r\n",
      "[ 38%] \u001b[32mBuilding CXX object CMakeFiles/libmosfet.dir/agent/roles/trailblazer_agent_role.cc.o\u001b[0m\r\n",
      "[ 40%] \u001b[32mBuilding CXX object CMakeFiles/libmosfet.dir/agent/planning/jobs.cc.o\u001b[0m\r\n",
      "[ 42%] \u001b[32mBuilding CXX object CMakeFiles/libmosfet.dir/agent/planning/planner.cc.o\u001b[0m\r\n",
      "[ 44%] \u001b[32mBuilding CXX object CMakeFiles/libmosfet.dir/visualizer/visualizer_client.cc.o\u001b[0m\r\n",
      "[ 46%] \u001b[32mBuilding CXX object CMakeFiles/libmosfet.dir/datastructures/constraint_set.cc.o\u001b[0m\r\n",
      "[ 48%] \u001b[32mBuilding CXX object CMakeFiles/libmosfet.dir/datastructures/respawn_registry.cc.o\u001b[0m\r\n",
      "[ 51%] \u001b[32mBuilding CXX object CMakeFiles/libmosfet.dir/main.cc.o\u001b[0m\r\n",
      "[ 53%] \u001b[32mBuilding CXX object CMakeFiles/libmosfet.dir/parser.cc.o\u001b[0m\r\n",
      "[ 55%] \u001b[32mBuilding CXX object CMakeFiles/libmosfet.dir/config.cc.o\u001b[0m\r\n",
      "[ 57%] \u001b[32mBuilding CXX object CMakeFiles/libmosfet.dir/logger.cc.o\u001b[0m\r\n",
      "[ 59%] \u001b[32m\u001b[1mLinking CXX static library liblibmosfet.a\u001b[0m\r\n",
      "[ 59%] Built target libmosfet\r\n",
      "[ 61%] \u001b[32mBuilding CXX object CMakeFiles/mosfet.dir/main.cc.o\u001b[0m\r\n",
      "[ 63%] \u001b[32m\u001b[1mLinking CXX executable mosfet\u001b[0m\r\n",
      "[ 63%] Built target mosfet\r\n",
      "[ 65%] \u001b[32mBuilding CXX object _deps/googletest-build/googletest/CMakeFiles/gtest.dir/src/gtest-all.cc.o\u001b[0m\r\n",
      "[ 67%] \u001b[32m\u001b[1mLinking CXX static library ../../../lib/libgtest.a\u001b[0m\r\n",
      "[ 67%] Built target gtest\r\n",
      "[ 69%] \u001b[32mBuilding CXX object _deps/googletest-build/googlemock/CMakeFiles/gmock.dir/src/gmock-all.cc.o\u001b[0m\r\n",
      "[ 71%] \u001b[32m\u001b[1mLinking CXX static library ../../../lib/libgmock.a\u001b[0m\r\n",
      "[ 71%] Built target gmock\r\n",
      "[ 73%] \u001b[32mBuilding CXX object _deps/googletest-build/googlemock/CMakeFiles/gmock_main.dir/src/gmock_main.cc.o\u001b[0m\r\n",
      "[ 75%] \u001b[32m\u001b[1mLinking CXX static library ../../../lib/libgmock_main.a\u001b[0m\r\n",
      "[ 75%] Built target gmock_main\r\n",
      "[ 77%] \u001b[32mBuilding CXX object _deps/googletest-build/googletest/CMakeFiles/gtest_main.dir/src/gtest_main.cc.o\u001b[0m\r\n",
      "[ 79%] \u001b[32m\u001b[1mLinking CXX static library ../../../lib/libgtest_main.a\u001b[0m\r\n",
      "[ 79%] Built target gtest_main\r\n",
      "[ 81%] \u001b[32mBuilding CXX object tests/CMakeFiles/test_parser.dir/test_parser.cc.o\u001b[0m\r\n",
      "[ 83%] \u001b[32m\u001b[1mLinking CXX executable test_parser\u001b[0m\r\n",
      "[ 83%] Built target test_parser\r\n",
      "[ 85%] \u001b[32mBuilding CXX object tests/CMakeFiles/test_pathing.dir/test_pathing.cc.o\u001b[0m\r\n",
      "[ 87%] \u001b[32m\u001b[1mLinking CXX executable test_pathing\u001b[0m\r\n",
      "[ 87%] Built target test_pathing\r\n",
      "[ 89%] \u001b[32mBuilding CXX object tests/CMakeFiles/test_constraint_set.dir/test_constraint_set.cc.o\u001b[0m\r\n",
      "[ 91%] \u001b[32m\u001b[1mLinking CXX executable test_constraint_set\u001b[0m\r\n",
      "[ 91%] Built target test_constraint_set\r\n",
      "[ 93%] \u001b[32mBuilding CXX object tests/CMakeFiles/test_energy_estimator.dir/test_energy_estimator.cc.o\u001b[0m\r\n",
      "[ 95%] \u001b[32m\u001b[1mLinking CXX executable test_energy_estimator\u001b[0m\r\n",
      "[ 95%] Built target test_energy_estimator\r\n",
      "[ 97%] \u001b[32mBuilding CXX object tests/CMakeFiles/test_respawn_registry.dir/test_respawn_registry.cc.o\u001b[0m\r\n",
      "[100%] \u001b[32m\u001b[1mLinking CXX executable test_respawn_registry\u001b[0m\r\n",
      "[100%] Built target test_respawn_registry\r\n"
     ]
    }
   ],
   "source": [
    "!mkdir mosfet/build\n",
    "!cd mosfet/build && cmake .. && cd .. && ./build.sh"
   ]
  },
  {
   "cell_type": "code",
   "execution_count": 5,
   "id": "02865821",
   "metadata": {
    "execution": {
     "iopub.execute_input": "2025-03-06T07:49:19.202201Z",
     "iopub.status.busy": "2025-03-06T07:49:19.201827Z",
     "iopub.status.idle": "2025-03-06T07:49:19.607178Z",
     "shell.execute_reply": "2025-03-06T07:49:19.605858Z"
    },
    "papermill": {
     "duration": 0.415307,
     "end_time": "2025-03-06T07:49:19.609208",
     "exception": false,
     "start_time": "2025-03-06T07:49:19.193901",
     "status": "completed"
    },
    "tags": []
   },
   "outputs": [
    {
     "name": "stdout",
     "output_type": "stream",
     "text": [
      "LICENSE\r\n",
      "main.py\r\n",
      "mosfet\r\n",
      "config-prod.properties\r\n",
      "Compression complete: mosfet_25-06-03-07-49.tar.gz\r\n"
     ]
    }
   ],
   "source": [
    "!cd mosfet && ./submit.sh"
   ]
  },
  {
   "cell_type": "code",
   "execution_count": 6,
   "id": "958e7c33",
   "metadata": {
    "execution": {
     "iopub.execute_input": "2025-03-06T07:49:19.623871Z",
     "iopub.status.busy": "2025-03-06T07:49:19.623474Z",
     "iopub.status.idle": "2025-03-06T07:49:19.750636Z",
     "shell.execute_reply": "2025-03-06T07:49:19.749220Z"
    },
    "papermill": {
     "duration": 0.137069,
     "end_time": "2025-03-06T07:49:19.752882",
     "exception": false,
     "start_time": "2025-03-06T07:49:19.615813",
     "status": "completed"
    },
    "tags": []
   },
   "outputs": [
    {
     "name": "stdout",
     "output_type": "stream",
     "text": [
      "Removed mosfet_25-06-03-07-49.tar.gz\r\n",
      "Removed mosfet\r\n"
     ]
    }
   ],
   "source": [
    "!cd mosfet && ./clean.sh"
   ]
  },
  {
   "cell_type": "code",
   "execution_count": null,
   "id": "99356568",
   "metadata": {
    "papermill": {
     "duration": 0.00624,
     "end_time": "2025-03-06T07:49:19.766328",
     "exception": false,
     "start_time": "2025-03-06T07:49:19.760088",
     "status": "completed"
    },
    "tags": []
   },
   "outputs": [],
   "source": []
  }
 ],
 "metadata": {
  "kaggle": {
   "accelerator": "none",
   "dataSources": [],
   "dockerImageVersionId": 30918,
   "isGpuEnabled": false,
   "isInternetEnabled": true,
   "language": "python",
   "sourceType": "notebook"
  },
  "kernelspec": {
   "display_name": "Python 3",
   "language": "python",
   "name": "python3"
  },
  "language_info": {
   "codemirror_mode": {
    "name": "ipython",
    "version": 3
   },
   "file_extension": ".py",
   "mimetype": "text/x-python",
   "name": "python",
   "nbconvert_exporter": "python",
   "pygments_lexer": "ipython3",
   "version": "3.10.12"
  },
  "papermill": {
   "default_parameters": {},
   "duration": 173.041491,
   "end_time": "2025-03-06T07:49:20.293114",
   "environment_variables": {},
   "exception": null,
   "input_path": "__notebook__.ipynb",
   "output_path": "__notebook__.ipynb",
   "parameters": {},
   "start_time": "2025-03-06T07:46:27.251623",
   "version": "2.6.0"
  }
 },
 "nbformat": 4,
 "nbformat_minor": 5
}
