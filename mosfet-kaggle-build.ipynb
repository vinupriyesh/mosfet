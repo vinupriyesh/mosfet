{
 "cells": [
  {
   "cell_type": "code",
   "execution_count": 1,
   "id": "b29cb839",
   "metadata": {
    "execution": {
     "iopub.execute_input": "2025-03-06T08:06:08.395750Z",
     "iopub.status.busy": "2025-03-06T08:06:08.395234Z",
     "iopub.status.idle": "2025-03-06T08:06:08.521050Z",
     "shell.execute_reply": "2025-03-06T08:06:08.519637Z"
    },
    "papermill": {
     "duration": 0.132614,
     "end_time": "2025-03-06T08:06:08.523488",
     "exception": false,
     "start_time": "2025-03-06T08:06:08.390874",
     "status": "completed"
    },
    "tags": []
   },
   "outputs": [
    {
     "name": "stdout",
     "output_type": "stream",
     "text": [
      "ldd (Ubuntu GLIBC 2.35-0ubuntu3.4) 2.35\r\n",
      "Copyright (C) 2022 Free Software Foundation, Inc.\r\n",
      "This is free software; see the source for copying conditions.  There is NO\r\n",
      "warranty; not even for MERCHANTABILITY or FITNESS FOR A PARTICULAR PURPOSE.\r\n",
      "Written by Roland McGrath and Ulrich Drepper.\r\n"
     ]
    }
   ],
   "source": [
    "!ldd --version\n",
    "\n",
    "# ldd (Ubuntu GLIBC 2.35-0ubuntu3.4) 2.35\n",
    "# Copyright (C) 2022 Free Software Foundation, Inc.\n",
    "# This is free software; see the source for copying conditions.  There is NO\n",
    "# warranty; not even for MERCHANTABILITY or FITNESS FOR A PARTICULAR PURPOSE.\n",
    "# Written by Roland McGrath and Ulrich Drepper."
   ]
  },
  {
   "cell_type": "code",
   "execution_count": 2,
   "id": "81f45e1e",
   "metadata": {
    "execution": {
     "iopub.execute_input": "2025-03-06T08:06:08.530857Z",
     "iopub.status.busy": "2025-03-06T08:06:08.530419Z",
     "iopub.status.idle": "2025-03-06T08:06:10.097204Z",
     "shell.execute_reply": "2025-03-06T08:06:10.095443Z"
    },
    "papermill": {
     "duration": 1.573056,
     "end_time": "2025-03-06T08:06:10.099858",
     "exception": false,
     "start_time": "2025-03-06T08:06:08.526802",
     "status": "completed"
    },
    "tags": []
   },
   "outputs": [
    {
     "name": "stdout",
     "output_type": "stream",
     "text": [
      "Cloning into '/kaggle/working/mosfet'...\r\n",
      "remote: Enumerating objects: 1195, done.\u001b[K\r\n",
      "remote: Counting objects: 100% (208/208), done.\u001b[K\r\n",
      "remote: Compressing objects: 100% (132/132), done.\u001b[K\r\n",
      "remote: Total 1195 (delta 115), reused 143 (delta 71), pack-reused 987 (from 1)\u001b[K\r\n",
      "Receiving objects: 100% (1195/1195), 295.40 KiB | 9.53 MiB/s, done.\r\n",
      "Resolving deltas: 100% (824/824), done.\r\n"
     ]
    }
   ],
   "source": [
    "from kaggle_secrets import UserSecretsClient\n",
    "user_secrets = UserSecretsClient()\n",
    "github_pat = user_secrets.get_secret(\"GITHUB_PAT\")\n",
    "\n",
    "!git clone https://{github_pat}@github.com/vinupriyesh/mosfet.git /kaggle/working/mosfet"
   ]
  },
  {
   "cell_type": "code",
   "execution_count": 3,
   "id": "db4ba767",
   "metadata": {
    "execution": {
     "iopub.execute_input": "2025-03-06T08:06:10.108188Z",
     "iopub.status.busy": "2025-03-06T08:06:10.107674Z",
     "iopub.status.idle": "2025-03-06T08:06:10.964500Z",
     "shell.execute_reply": "2025-03-06T08:06:10.963072Z"
    },
    "papermill": {
     "duration": 0.863705,
     "end_time": "2025-03-06T08:06:10.966908",
     "exception": false,
     "start_time": "2025-03-06T08:06:10.103203",
     "status": "completed"
    },
    "tags": []
   },
   "outputs": [
    {
     "name": "stdout",
     "output_type": "stream",
     "text": [
      "Already up to date.\r\n",
      "On branch main\r\n",
      "Your branch is up to date with 'origin/main'.\r\n",
      "\r\n",
      "nothing to commit, working tree clean\r\n"
     ]
    }
   ],
   "source": [
    "!cd mosfet && git pull\n",
    "!cd mosfet && git status"
   ]
  },
  {
   "cell_type": "code",
   "execution_count": 4,
   "id": "9855694f",
   "metadata": {
    "execution": {
     "iopub.execute_input": "2025-03-06T08:06:10.974630Z",
     "iopub.status.busy": "2025-03-06T08:06:10.974229Z",
     "iopub.status.idle": "2025-03-06T08:09:00.075321Z",
     "shell.execute_reply": "2025-03-06T08:09:00.073473Z"
    },
    "papermill": {
     "duration": 169.107436,
     "end_time": "2025-03-06T08:09:00.077670",
     "exception": false,
     "start_time": "2025-03-06T08:06:10.970234",
     "status": "completed"
    },
    "tags": []
   },
   "outputs": [
    {
     "name": "stdout",
     "output_type": "stream",
     "text": [
      "-- The C compiler identification is GNU 11.4.0\r\n",
      "-- The CXX compiler identification is GNU 11.4.0\r\n",
      "-- Detecting C compiler ABI info\r\n",
      "-- Detecting C compiler ABI info - done\r\n",
      "-- Check for working C compiler: /usr/bin/cc - skipped\r\n",
      "-- Detecting C compile features\r\n",
      "-- Detecting C compile features - done\r\n",
      "-- Detecting CXX compiler ABI info\r\n",
      "-- Detecting CXX compiler ABI info - done\r\n",
      "-- Check for working CXX compiler: /usr/bin/c++ - skipped\r\n",
      "-- Detecting CXX compile features\r\n",
      "-- Detecting CXX compile features - done\r\n",
      "-- Using the multi-header code from /kaggle/working/mosfet/build/_deps/json-src/include/\r\n",
      "-- Performing Test CMAKE_HAVE_LIBC_PTHREAD\r\n",
      "-- Performing Test CMAKE_HAVE_LIBC_PTHREAD - Success\r\n",
      "-- Found Threads: TRUE\r\n",
      "-- Configuring done (17.7s)\r\n",
      "-- Generating done (0.0s)\r\n",
      "-- Build files have been written to: /kaggle/working/mosfet/build\r\n",
      "-- Using the multi-header code from /kaggle/working/mosfet/build/_deps/json-src/include/\r\n",
      "-- Configuring done (0.5s)\r\n",
      "-- Generating done (0.0s)\r\n",
      "-- Build files have been written to: /kaggle/working/mosfet/build\r\n",
      "[  2%] \u001b[32mBuilding CXX object CMakeFiles/libmosfet.dir/agent/battle_evaluator.cc.o\u001b[0m\r\n",
      "[  4%] \u001b[32mBuilding CXX object CMakeFiles/libmosfet.dir/agent/control_center.cc.o\u001b[0m\r\n",
      "[  6%] \u001b[32mBuilding CXX object CMakeFiles/libmosfet.dir/agent/drift_detector.cc.o\u001b[0m\r\n",
      "[  8%] \u001b[32mBuilding CXX object CMakeFiles/libmosfet.dir/agent/energy_estimator.cc.o\u001b[0m\r\n",
      "[ 10%] \u001b[32mBuilding CXX object CMakeFiles/libmosfet.dir/agent/game_map.cc.o\u001b[0m\r\n",
      "[ 12%] \u001b[32mBuilding CXX object CMakeFiles/libmosfet.dir/agent/opponent_tracker.cc.o\u001b[0m\r\n",
      "[ 14%] \u001b[32mBuilding CXX object CMakeFiles/libmosfet.dir/agent/pathing.cc.o\u001b[0m\r\n",
      "[ 16%] \u001b[32mBuilding CXX object CMakeFiles/libmosfet.dir/agent/relic.cc.o\u001b[0m\r\n",
      "[ 18%] \u001b[32mBuilding CXX object CMakeFiles/libmosfet.dir/agent/shuttle.cc.o\u001b[0m\r\n",
      "[ 20%] \u001b[32mBuilding CXX object CMakeFiles/libmosfet.dir/agent/shuttle_energy_tracker.cc.o\u001b[0m\r\n",
      "[ 22%] \u001b[32mBuilding CXX object CMakeFiles/libmosfet.dir/agent/roles/agent_role.cc.o\u001b[0m\r\n",
      "[ 24%] \u001b[32mBuilding CXX object CMakeFiles/libmosfet.dir/agent/roles/defender_agent_role.cc.o\u001b[0m\r\n",
      "[ 26%] \u001b[32mBuilding CXX object CMakeFiles/libmosfet.dir/agent/roles/halo_node_explorer_agent_role.cc.o\u001b[0m\r\n",
      "[ 28%] \u001b[32mBuilding CXX object CMakeFiles/libmosfet.dir/agent/roles/halo_node_navigator_agent_role.cc.o\u001b[0m\r\n",
      "[ 30%] \u001b[32mBuilding CXX object CMakeFiles/libmosfet.dir/agent/roles/navigator_agent_role.cc.o\u001b[0m\r\n",
      "[ 32%] \u001b[32mBuilding CXX object CMakeFiles/libmosfet.dir/agent/roles/random_agent_role.cc.o\u001b[0m\r\n",
      "[ 34%] \u001b[32mBuilding CXX object CMakeFiles/libmosfet.dir/agent/roles/relic_miner_agent_role.cc.o\u001b[0m\r\n",
      "[ 36%] \u001b[32mBuilding CXX object CMakeFiles/libmosfet.dir/agent/roles/relic_mining_navigator_agent_role.cc.o\u001b[0m\r\n",
      "[ 38%] \u001b[32mBuilding CXX object CMakeFiles/libmosfet.dir/agent/roles/trailblazer_agent_role.cc.o\u001b[0m\r\n",
      "[ 40%] \u001b[32mBuilding CXX object CMakeFiles/libmosfet.dir/agent/planning/jobs.cc.o\u001b[0m\r\n",
      "[ 42%] \u001b[32mBuilding CXX object CMakeFiles/libmosfet.dir/agent/planning/planner.cc.o\u001b[0m\r\n",
      "[ 44%] \u001b[32mBuilding CXX object CMakeFiles/libmosfet.dir/visualizer/visualizer_client.cc.o\u001b[0m\r\n",
      "[ 46%] \u001b[32mBuilding CXX object CMakeFiles/libmosfet.dir/datastructures/constraint_set.cc.o\u001b[0m\r\n",
      "[ 48%] \u001b[32mBuilding CXX object CMakeFiles/libmosfet.dir/datastructures/respawn_registry.cc.o\u001b[0m\r\n",
      "[ 51%] \u001b[32mBuilding CXX object CMakeFiles/libmosfet.dir/main.cc.o\u001b[0m\r\n",
      "[ 53%] \u001b[32mBuilding CXX object CMakeFiles/libmosfet.dir/parser.cc.o\u001b[0m\r\n",
      "[ 55%] \u001b[32mBuilding CXX object CMakeFiles/libmosfet.dir/config.cc.o\u001b[0m\r\n",
      "[ 57%] \u001b[32mBuilding CXX object CMakeFiles/libmosfet.dir/logger.cc.o\u001b[0m\r\n",
      "[ 59%] \u001b[32m\u001b[1mLinking CXX static library liblibmosfet.a\u001b[0m\r\n",
      "[ 59%] Built target libmosfet\r\n",
      "[ 61%] \u001b[32mBuilding CXX object CMakeFiles/mosfet.dir/main.cc.o\u001b[0m\r\n",
      "[ 63%] \u001b[32m\u001b[1mLinking CXX executable mosfet\u001b[0m\r\n",
      "[ 63%] Built target mosfet\r\n",
      "[ 65%] \u001b[32mBuilding CXX object _deps/googletest-build/googletest/CMakeFiles/gtest.dir/src/gtest-all.cc.o\u001b[0m\r\n",
      "[ 67%] \u001b[32m\u001b[1mLinking CXX static library ../../../lib/libgtest.a\u001b[0m\r\n",
      "[ 67%] Built target gtest\r\n",
      "[ 69%] \u001b[32mBuilding CXX object _deps/googletest-build/googlemock/CMakeFiles/gmock.dir/src/gmock-all.cc.o\u001b[0m\r\n",
      "[ 71%] \u001b[32m\u001b[1mLinking CXX static library ../../../lib/libgmock.a\u001b[0m\r\n",
      "[ 71%] Built target gmock\r\n",
      "[ 73%] \u001b[32mBuilding CXX object _deps/googletest-build/googlemock/CMakeFiles/gmock_main.dir/src/gmock_main.cc.o\u001b[0m\r\n",
      "[ 75%] \u001b[32m\u001b[1mLinking CXX static library ../../../lib/libgmock_main.a\u001b[0m\r\n",
      "[ 75%] Built target gmock_main\r\n",
      "[ 77%] \u001b[32mBuilding CXX object _deps/googletest-build/googletest/CMakeFiles/gtest_main.dir/src/gtest_main.cc.o\u001b[0m\r\n",
      "[ 79%] \u001b[32m\u001b[1mLinking CXX static library ../../../lib/libgtest_main.a\u001b[0m\r\n",
      "[ 79%] Built target gtest_main\r\n",
      "[ 81%] \u001b[32mBuilding CXX object tests/CMakeFiles/test_parser.dir/test_parser.cc.o\u001b[0m\r\n",
      "[ 83%] \u001b[32m\u001b[1mLinking CXX executable test_parser\u001b[0m\r\n",
      "[ 83%] Built target test_parser\r\n",
      "[ 85%] \u001b[32mBuilding CXX object tests/CMakeFiles/test_pathing.dir/test_pathing.cc.o\u001b[0m\r\n",
      "[ 87%] \u001b[32m\u001b[1mLinking CXX executable test_pathing\u001b[0m\r\n",
      "[ 87%] Built target test_pathing\r\n",
      "[ 89%] \u001b[32mBuilding CXX object tests/CMakeFiles/test_constraint_set.dir/test_constraint_set.cc.o\u001b[0m\r\n",
      "[ 91%] \u001b[32m\u001b[1mLinking CXX executable test_constraint_set\u001b[0m\r\n",
      "[ 91%] Built target test_constraint_set\r\n",
      "[ 93%] \u001b[32mBuilding CXX object tests/CMakeFiles/test_energy_estimator.dir/test_energy_estimator.cc.o\u001b[0m\r\n",
      "[ 95%] \u001b[32m\u001b[1mLinking CXX executable test_energy_estimator\u001b[0m\r\n",
      "[ 95%] Built target test_energy_estimator\r\n",
      "[ 97%] \u001b[32mBuilding CXX object tests/CMakeFiles/test_respawn_registry.dir/test_respawn_registry.cc.o\u001b[0m\r\n",
      "[100%] \u001b[32m\u001b[1mLinking CXX executable test_respawn_registry\u001b[0m\r\n",
      "[100%] Built target test_respawn_registry\r\n"
     ]
    }
   ],
   "source": [
    "!mkdir mosfet/build\n",
    "!cd mosfet/build && cmake .. && cd .. && ./clean.sh && ./build.sh"
   ]
  },
  {
   "cell_type": "code",
   "execution_count": 5,
   "id": "8c88c68b",
   "metadata": {
    "execution": {
     "iopub.execute_input": "2025-03-06T08:09:00.093494Z",
     "iopub.status.busy": "2025-03-06T08:09:00.092681Z",
     "iopub.status.idle": "2025-03-06T08:09:00.332184Z",
     "shell.execute_reply": "2025-03-06T08:09:00.330388Z"
    },
    "papermill": {
     "duration": 0.25055,
     "end_time": "2025-03-06T08:09:00.334761",
     "exception": false,
     "start_time": "2025-03-06T08:09:00.084211",
     "status": "completed"
    },
    "tags": []
   },
   "outputs": [
    {
     "name": "stdout",
     "output_type": "stream",
     "text": [
      "LICENSE\r\n",
      "main.py\r\n",
      "mosfet\r\n",
      "config-prod.properties\r\n",
      "Compression complete: mosfet_25-06-03-08-09.tar.gz\r\n"
     ]
    }
   ],
   "source": [
    "!cd mosfet && ./submit.sh"
   ]
  },
  {
   "cell_type": "code",
   "execution_count": null,
   "id": "ff384050",
   "metadata": {
    "papermill": {
     "duration": 0.006347,
     "end_time": "2025-03-06T08:09:00.348370",
     "exception": false,
     "start_time": "2025-03-06T08:09:00.342023",
     "status": "completed"
    },
    "tags": []
   },
   "outputs": [],
   "source": []
  }
 ],
 "metadata": {
  "kaggle": {
   "accelerator": "none",
   "dataSources": [],
   "dockerImageVersionId": 30918,
   "isGpuEnabled": false,
   "isInternetEnabled": true,
   "language": "python",
   "sourceType": "notebook"
  },
  "kernelspec": {
   "display_name": "Python 3",
   "language": "python",
   "name": "python3"
  },
  "language_info": {
   "codemirror_mode": {
    "name": "ipython",
    "version": 3
   },
   "file_extension": ".py",
   "mimetype": "text/x-python",
   "name": "python",
   "nbconvert_exporter": "python",
   "pygments_lexer": "ipython3",
   "version": "3.10.12"
  },
  "papermill": {
   "default_parameters": {},
   "duration": 175.640354,
   "end_time": "2025-03-06T08:09:00.980559",
   "environment_variables": {},
   "exception": null,
   "input_path": "__notebook__.ipynb",
   "output_path": "__notebook__.ipynb",
   "parameters": {},
   "start_time": "2025-03-06T08:06:05.340205",
   "version": "2.6.0"
  }
 },
 "nbformat": 4,
 "nbformat_minor": 5
}
